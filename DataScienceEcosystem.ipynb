{
 "cells": [
  {
   "cell_type": "markdown",
   "id": "c4e8785a",
   "metadata": {},
   "source": [
    "# Data Science Tools and Ecosystem"
   ]
  },
  {
   "cell_type": "markdown",
   "id": "3713fd87",
   "metadata": {},
   "source": [
    "In this notebook, Data Science Tools and Ecosystem are summarized"
   ]
  },
  {
   "cell_type": "markdown",
   "id": "7d7b6e7e",
   "metadata": {},
   "source": [
    "__Objectives__"
   ]
  },
  {
   "cell_type": "markdown",
   "id": "78431bca",
   "metadata": {},
   "source": [
    "- learning Data Science languages\n",
    "- learning Data Science Open Source Tools\n",
    "- learning Data Science Commercial Tools"
   ]
  },
  {
   "cell_type": "markdown",
   "id": "b84f7072",
   "metadata": {},
   "source": [
    "Some of the commonly used libraries used by Data Scientists include:"
   ]
  },
  {
   "cell_type": "markdown",
   "id": "6c6e779a",
   "metadata": {},
   "source": [
    "1. Python\n",
    "2. R\n",
    "3. JavaScript \n",
    "4. Julia"
   ]
  },
  {
   "cell_type": "markdown",
   "id": "52b44689",
   "metadata": {},
   "source": [
    "Some of the commonly used libraries used by Data Scientists include:"
   ]
  },
  {
   "cell_type": "markdown",
   "id": "b48e5d34",
   "metadata": {},
   "source": [
    "1. Scientific Computing Libraries\n",
    "2. Deep Learning Libraries\n",
    "3. Visualization Libraries"
   ]
  },
  {
   "cell_type": "markdown",
   "id": "9e96a261",
   "metadata": {},
   "source": [
    "| Data Science Tools |\n",
    "----------------------\n",
    "1- MongoDB\n",
    "2- Kafka\n",
    "3- OpenShift\n"
   ]
  },
  {
   "cell_type": "markdown",
   "id": "3c89cb77",
   "metadata": {},
   "source": [
    "###  Below are a few examples of evaluating arithmetic expressions in Python"
   ]
  },
  {
   "cell_type": "code",
   "execution_count": 3,
   "id": "db11ff90",
   "metadata": {},
   "outputs": [],
   "source": [
    "# This a simple arithmetic expression to mutiply then add integers"
   ]
  },
  {
   "cell_type": "code",
   "execution_count": 8,
   "id": "2802a9c4",
   "metadata": {},
   "outputs": [
    {
     "data": {
      "text/plain": [
       "17"
      ]
     },
     "execution_count": 8,
     "metadata": {},
     "output_type": "execute_result"
    }
   ],
   "source": [
    "(3*4)+5"
   ]
  },
  {
   "cell_type": "code",
   "execution_count": 5,
   "id": "496f9822",
   "metadata": {},
   "outputs": [],
   "source": [
    "# This will convert 200 minutes to hours by diving by 60"
   ]
  },
  {
   "cell_type": "code",
   "execution_count": 7,
   "id": "2239e215",
   "metadata": {},
   "outputs": [
    {
     "data": {
      "text/plain": [
       "3.3333333333333335"
      ]
     },
     "execution_count": 7,
     "metadata": {},
     "output_type": "execute_result"
    }
   ],
   "source": [
    "200/60"
   ]
  },
  {
   "cell_type": "markdown",
   "id": "6583e084",
   "metadata": {},
   "source": [
    "## Auther:\n",
    "Jamal Hagi"
   ]
  },
  {
   "cell_type": "code",
   "execution_count": null,
   "id": "41113615",
   "metadata": {},
   "outputs": [],
   "source": []
  }
 ],
 "metadata": {
  "kernelspec": {
   "display_name": "Python 3 (ipykernel)",
   "language": "python",
   "name": "python3"
  },
  "language_info": {
   "codemirror_mode": {
    "name": "ipython",
    "version": 3
   },
   "file_extension": ".py",
   "mimetype": "text/x-python",
   "name": "python",
   "nbconvert_exporter": "python",
   "pygments_lexer": "ipython3",
   "version": "3.11.5"
  }
 },
 "nbformat": 4,
 "nbformat_minor": 5
}
